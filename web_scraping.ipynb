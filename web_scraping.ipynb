{
 "cells": [
  {
   "cell_type": "code",
   "execution_count": 13,
   "id": "1e79cac0",
   "metadata": {},
   "outputs": [],
   "source": [
    "years = list(range(1991, 2026))\n"
   ]
  },
  {
   "cell_type": "code",
   "execution_count": 14,
   "id": "6fb5227a",
   "metadata": {},
   "outputs": [],
   "source": [
    "url_start = \"https://www.basketball-reference.com/awards/awards_{}.html\""
   ]
  },
  {
   "cell_type": "code",
   "execution_count": 15,
   "id": "e960d6dd",
   "metadata": {},
   "outputs": [],
   "source": [
    "import requests\n",
    "import pandas as pd\n",
    "\n",
    "# for year in years:\n",
    "#     url = url_start.format(year)\n",
    "#     data = requests.get(url)\n",
    "\n",
    "#     with open(\"mvp/{}.html\".format(year), \"w+\") as f:\n",
    "#         f.write(data.text)\n",
    "\n",
    "\n"
   ]
  },
  {
   "cell_type": "code",
   "execution_count": 16,
   "id": "8847dbe6",
   "metadata": {},
   "outputs": [],
   "source": [
    "from bs4 import BeautifulSoup"
   ]
  },
  {
   "cell_type": "code",
   "execution_count": 17,
   "id": "03836676",
   "metadata": {},
   "outputs": [],
   "source": [
    "with open(\"mvps/awards_1991.html\", encoding=\"utf-8\") as f:\n",
    "    page = f.read()"
   ]
  },
  {
   "cell_type": "code",
   "execution_count": 18,
   "id": "066278bc",
   "metadata": {},
   "outputs": [],
   "source": [
    "soup = BeautifulSoup(page, \"html.parser\")"
   ]
  },
  {
   "cell_type": "code",
   "execution_count": 19,
   "id": "b0deb2b1",
   "metadata": {},
   "outputs": [],
   "source": [
    "soup.find('tr', class_=\"over_header\").decompose()"
   ]
  },
  {
   "cell_type": "code",
   "execution_count": 20,
   "id": "d1072c87",
   "metadata": {},
   "outputs": [],
   "source": [
    "mvp_table = soup.find(id=\"mvp\")"
   ]
  },
  {
   "cell_type": "code",
   "execution_count": 21,
   "id": "d3767b32",
   "metadata": {},
   "outputs": [],
   "source": [
    "import pandas as pd"
   ]
  },
  {
   "cell_type": "code",
   "execution_count": 22,
   "id": "1cd11c7d",
   "metadata": {},
   "outputs": [
    {
     "name": "stderr",
     "output_type": "stream",
     "text": [
      "C:\\Users\\Daniel\\AppData\\Local\\Temp\\ipykernel_33784\\1044145557.py:1: FutureWarning: Passing literal html to 'read_html' is deprecated and will be removed in a future version. To read from a literal string, wrap it in a 'StringIO' object.\n",
      "  mvp_1991 = pd.read_html(str(mvp_table))[0]\n"
     ]
    }
   ],
   "source": [
    "mvp_1991 = pd.read_html(str(mvp_table))[0]"
   ]
  },
  {
   "cell_type": "code",
   "execution_count": 23,
   "id": "855b689f",
   "metadata": {},
   "outputs": [],
   "source": [
    "# dfs = []\n",
    "# for year in years:\n",
    "#     with open(\"mvps/awards_{}.html\".format(year), encoding=\"utf-8\") as f:\n",
    "#         page = f.read()\n",
    "#     soup = BeautifulSoup(page, \"html.parser\")\n",
    "#     soup.find('tr', class_=\"over_header\").decompose()\n",
    "#     mvp_table = soup.find(id=\"mvp\")\n",
    "#     mvp = pd.read_html(str(mvp_table))[0]\n",
    "#     mvp[\"Year\"] = year\n",
    "\n",
    "#     dfs.append(mvp)"
   ]
  },
  {
   "cell_type": "code",
   "execution_count": 24,
   "id": "f66ec1d4",
   "metadata": {},
   "outputs": [],
   "source": [
    "# mvps = pd.concat(dfs)"
   ]
  },
  {
   "cell_type": "code",
   "execution_count": 25,
   "id": "283930a6",
   "metadata": {},
   "outputs": [],
   "source": [
    "# mvps.to_csv(\"mvps.csv\")"
   ]
  },
  {
   "cell_type": "code",
   "execution_count": 26,
   "id": "348c4dbe",
   "metadata": {},
   "outputs": [],
   "source": [
    "player_stats_url = \"https://www.basketball-reference.com/leagues/NBA_{}_per_game.html\"\n",
    "\n"
   ]
  },
  {
   "cell_type": "code",
   "execution_count": 27,
   "id": "7b108dd0",
   "metadata": {},
   "outputs": [],
   "source": [
    "from selenium import webdriver\n",
    "from selenium.webdriver.chrome.service import Service"
   ]
  },
  {
   "cell_type": "code",
   "execution_count": 28,
   "id": "2281a296",
   "metadata": {},
   "outputs": [],
   "source": [
    "service = Service(executable_path=\"C:/Users/Daniel/Downloads/chromedriver-win64/chromedriver.exe\")\n",
    "driver = webdriver.Chrome(service=service)\n",
    "\n"
   ]
  },
  {
   "cell_type": "code",
   "execution_count": 29,
   "id": "aa3745e2",
   "metadata": {},
   "outputs": [],
   "source": [
    "import time\n",
    "year = 1991\n",
    "url = player_stats_url.format(year)\n",
    "\n",
    "driver.get(url)\n",
    "driver.execute_script(\"window.scrollTo(1,1000)\")\n",
    "time.sleep(2)\n",
    "\n",
    "html = driver.page_source"
   ]
  },
  {
   "cell_type": "code",
   "execution_count": 30,
   "id": "be749cca",
   "metadata": {},
   "outputs": [],
   "source": [
    "with open(\"all_players/{}.html\".format(year), \"w+\", encoding=\"utf-8\") as f:\n",
    "    f.write(html)"
   ]
  },
  {
   "cell_type": "code",
   "execution_count": 50,
   "id": "51c43d82",
   "metadata": {},
   "outputs": [],
   "source": [
    "#Selenium not working due to cloudflare protection\n",
    "# url = player_stats_url.format(1993)\n",
    "\n",
    "# driver.get(url)\n",
    "# driver.execute_script(\"window.scrollTo(1,1000)\")\n",
    "# time.sleep(2)\n",
    "\n",
    "# html = driver.page_source\n",
    "# with open(\"all_players/{}.html\".format(year), \"w+\", encoding=\"utf-8\") as f:\n",
    "#     f.write(html)"
   ]
  },
  {
   "cell_type": "code",
   "execution_count": 32,
   "id": "4e7b0d0b",
   "metadata": {},
   "outputs": [
    {
     "name": "stderr",
     "output_type": "stream",
     "text": [
      "C:\\Users\\Daniel\\AppData\\Local\\Temp\\ipykernel_33784\\504145221.py:13: FutureWarning: Passing literal html to 'read_html' is deprecated and will be removed in a future version. To read from a literal string, wrap it in a 'StringIO' object.\n",
      "  player = pd.read_html(str(player_table))[0]\n",
      "C:\\Users\\Daniel\\AppData\\Local\\Temp\\ipykernel_33784\\504145221.py:13: FutureWarning: Passing literal html to 'read_html' is deprecated and will be removed in a future version. To read from a literal string, wrap it in a 'StringIO' object.\n",
      "  player = pd.read_html(str(player_table))[0]\n",
      "C:\\Users\\Daniel\\AppData\\Local\\Temp\\ipykernel_33784\\504145221.py:13: FutureWarning: Passing literal html to 'read_html' is deprecated and will be removed in a future version. To read from a literal string, wrap it in a 'StringIO' object.\n",
      "  player = pd.read_html(str(player_table))[0]\n",
      "C:\\Users\\Daniel\\AppData\\Local\\Temp\\ipykernel_33784\\504145221.py:13: FutureWarning: Passing literal html to 'read_html' is deprecated and will be removed in a future version. To read from a literal string, wrap it in a 'StringIO' object.\n",
      "  player = pd.read_html(str(player_table))[0]\n"
     ]
    }
   ],
   "source": [
    "dfs = []\n",
    "\n",
    "for year in [2022, 2023, 2024, 2025]:\n",
    "    with open(\"all_players/{}.html\".format(year), encoding=\"utf-8\") as f:\n",
    "        page = f.read()\n",
    "    soup = BeautifulSoup(page, \"html.parser\")\n",
    "    thead_row = soup.find('tr', class_=\"thead\")\n",
    "    if thead_row is not None:\n",
    "        thead_row.decompose()\n",
    "    else:\n",
    "        print(f\"'thead' not found for year {year}\")\n",
    "    player_table = soup.find(id=\"per_game_stats\")\n",
    "    player = pd.read_html(str(player_table))[0]\n",
    "    player[\"Year\"] = year\n",
    "    dfs.append(player)\n",
    "\n"
   ]
  },
  {
   "cell_type": "code",
   "execution_count": 33,
   "id": "339670dd",
   "metadata": {},
   "outputs": [],
   "source": [
    "players = pd.concat(dfs)"
   ]
  },
  {
   "cell_type": "code",
   "execution_count": 37,
   "id": "963c6ac8",
   "metadata": {},
   "outputs": [],
   "source": [
    "players = players.drop(\"Awards\", axis=1)"
   ]
  },
  {
   "cell_type": "code",
   "execution_count": 40,
   "id": "70fc6a3a",
   "metadata": {},
   "outputs": [],
   "source": [
    "players.to_csv(\"players.csv\", mode='a', header=False)"
   ]
  },
  {
   "cell_type": "code",
   "execution_count": 42,
   "id": "4f23ce56",
   "metadata": {},
   "outputs": [],
   "source": [
    "team_stats_url = \"https://www.basketball-reference.com/leagues/NBA_{}_standings.html\""
   ]
  },
  {
   "cell_type": "code",
   "execution_count": null,
   "id": "36329409",
   "metadata": {},
   "outputs": [],
   "source": [
    "# Scrape team stats not working due to cloudflare protection\n",
    "\n",
    "# url = team_stats_url.format(2022)\n",
    "\n",
    "# data = requests.get(url)\n",
    "\n",
    "# with open(\"team/{}.html\".format(2022), \"w+\", encoding=\"utf-8\") as f:\n",
    "#     f.write(data.text)"
   ]
  },
  {
   "cell_type": "code",
   "execution_count": null,
   "id": "23365edb",
   "metadata": {},
   "outputs": [],
   "source": [
    "\n",
    "dfs = []\n",
    "for year in [2022, 2023, 2024, 2025]:\n",
    "    with open(\"team/{}.html\".format(year), encoding=\"utf-8\") as f:\n",
    "        page = f.read()\n",
    "    # Eastern Conference\n",
    "    soup = BeautifulSoup(page, \"html.parser\")\n",
    "    thead_row = soup.find('tr', class_=\"thead\")\n",
    "    if thead_row is not None:\n",
    "        thead_row.decompose()\n",
    "    else:\n",
    "        print(f\"'thead' not found for year {year}\")\n",
    "    team_table = soup.find(id=\"divs_standings_E\")\n",
    "    team = pd.read_html(str(team_table))[0]\n",
    "    team[\"Year\"] = year\n",
    "    team[\"Team\"] = team[\"Eastern Conference\"]\n",
    "    del team[\"Eastern Conference\"]\n",
    "    dfs.append(team)\n",
    "\n",
    "    # Western Conference\n",
    "    soup = BeautifulSoup(page, \"html.parser\")\n",
    "    thead_row = soup.find('tr', class_=\"thead\")\n",
    "    if thead_row is not None:\n",
    "        thead_row.decompose()\n",
    "    else:\n",
    "        print(f\"'thead' not found for year {year}\")\n",
    "    team_table = soup.find(id=\"divs_standings_W\")\n",
    "    team = pd.read_html(str(team_table))[0]\n",
    "    team[\"Year\"] = year\n",
    "    team[\"Team\"] = team[\"Western Conference\"]\n",
    "    del team[\"Western Conference\"]\n",
    "    dfs.append(team)\n",
    "\n",
    "\n"
   ]
  },
  {
   "cell_type": "code",
   "execution_count": 48,
   "id": "9be3f88e",
   "metadata": {},
   "outputs": [],
   "source": [
    "teams = pd.concat(dfs)"
   ]
  },
  {
   "cell_type": "code",
   "execution_count": 49,
   "id": "08094e9d",
   "metadata": {},
   "outputs": [
    {
     "data": {
      "text/html": [
       "<div>\n",
       "<style scoped>\n",
       "    .dataframe tbody tr th:only-of-type {\n",
       "        vertical-align: middle;\n",
       "    }\n",
       "\n",
       "    .dataframe tbody tr th {\n",
       "        vertical-align: top;\n",
       "    }\n",
       "\n",
       "    .dataframe thead th {\n",
       "        text-align: right;\n",
       "    }\n",
       "</style>\n",
       "<table border=\"1\" class=\"dataframe\">\n",
       "  <thead>\n",
       "    <tr style=\"text-align: right;\">\n",
       "      <th></th>\n",
       "      <th>W</th>\n",
       "      <th>L</th>\n",
       "      <th>W/L%</th>\n",
       "      <th>GB</th>\n",
       "      <th>PS/G</th>\n",
       "      <th>PA/G</th>\n",
       "      <th>SRS</th>\n",
       "      <th>Year</th>\n",
       "      <th>Team</th>\n",
       "    </tr>\n",
       "  </thead>\n",
       "  <tbody>\n",
       "    <tr>\n",
       "      <th>0</th>\n",
       "      <td>51</td>\n",
       "      <td>31</td>\n",
       "      <td>.622</td>\n",
       "      <td>—</td>\n",
       "      <td>111.8</td>\n",
       "      <td>104.5</td>\n",
       "      <td>7.02</td>\n",
       "      <td>2022</td>\n",
       "      <td>Boston Celtics*</td>\n",
       "    </tr>\n",
       "    <tr>\n",
       "      <th>1</th>\n",
       "      <td>51</td>\n",
       "      <td>31</td>\n",
       "      <td>.622</td>\n",
       "      <td>—</td>\n",
       "      <td>109.9</td>\n",
       "      <td>107.3</td>\n",
       "      <td>2.57</td>\n",
       "      <td>2022</td>\n",
       "      <td>Philadelphia 76ers*</td>\n",
       "    </tr>\n",
       "    <tr>\n",
       "      <th>2</th>\n",
       "      <td>48</td>\n",
       "      <td>34</td>\n",
       "      <td>.585</td>\n",
       "      <td>3.0</td>\n",
       "      <td>109.4</td>\n",
       "      <td>107.1</td>\n",
       "      <td>2.38</td>\n",
       "      <td>2022</td>\n",
       "      <td>Toronto Raptors*</td>\n",
       "    </tr>\n",
       "    <tr>\n",
       "      <th>3</th>\n",
       "      <td>44</td>\n",
       "      <td>38</td>\n",
       "      <td>.537</td>\n",
       "      <td>7.0</td>\n",
       "      <td>112.9</td>\n",
       "      <td>112.1</td>\n",
       "      <td>0.82</td>\n",
       "      <td>2022</td>\n",
       "      <td>Brooklyn Nets*</td>\n",
       "    </tr>\n",
       "    <tr>\n",
       "      <th>4</th>\n",
       "      <td>37</td>\n",
       "      <td>45</td>\n",
       "      <td>.451</td>\n",
       "      <td>14.0</td>\n",
       "      <td>106.5</td>\n",
       "      <td>106.6</td>\n",
       "      <td>-0.01</td>\n",
       "      <td>2022</td>\n",
       "      <td>New York Knicks</td>\n",
       "    </tr>\n",
       "    <tr>\n",
       "      <th>...</th>\n",
       "      <td>...</td>\n",
       "      <td>...</td>\n",
       "      <td>...</td>\n",
       "      <td>...</td>\n",
       "      <td>...</td>\n",
       "      <td>...</td>\n",
       "      <td>...</td>\n",
       "      <td>...</td>\n",
       "      <td>...</td>\n",
       "    </tr>\n",
       "    <tr>\n",
       "      <th>13</th>\n",
       "      <td>52</td>\n",
       "      <td>30</td>\n",
       "      <td>.634</td>\n",
       "      <td>—</td>\n",
       "      <td>114.3</td>\n",
       "      <td>109.8</td>\n",
       "      <td>4.97</td>\n",
       "      <td>2025</td>\n",
       "      <td>Houston Rockets*</td>\n",
       "    </tr>\n",
       "    <tr>\n",
       "      <th>14</th>\n",
       "      <td>48</td>\n",
       "      <td>34</td>\n",
       "      <td>.585</td>\n",
       "      <td>4.0</td>\n",
       "      <td>121.7</td>\n",
       "      <td>116.9</td>\n",
       "      <td>4.79</td>\n",
       "      <td>2025</td>\n",
       "      <td>Memphis Grizzlies*</td>\n",
       "    </tr>\n",
       "    <tr>\n",
       "      <th>15</th>\n",
       "      <td>39</td>\n",
       "      <td>43</td>\n",
       "      <td>.476</td>\n",
       "      <td>13.0</td>\n",
       "      <td>114.2</td>\n",
       "      <td>115.4</td>\n",
       "      <td>-0.74</td>\n",
       "      <td>2025</td>\n",
       "      <td>Dallas Mavericks</td>\n",
       "    </tr>\n",
       "    <tr>\n",
       "      <th>16</th>\n",
       "      <td>34</td>\n",
       "      <td>48</td>\n",
       "      <td>.415</td>\n",
       "      <td>18.0</td>\n",
       "      <td>113.9</td>\n",
       "      <td>116.7</td>\n",
       "      <td>-2.45</td>\n",
       "      <td>2025</td>\n",
       "      <td>San Antonio Spurs</td>\n",
       "    </tr>\n",
       "    <tr>\n",
       "      <th>17</th>\n",
       "      <td>21</td>\n",
       "      <td>61</td>\n",
       "      <td>.256</td>\n",
       "      <td>31.0</td>\n",
       "      <td>109.8</td>\n",
       "      <td>119.3</td>\n",
       "      <td>-8.59</td>\n",
       "      <td>2025</td>\n",
       "      <td>New Orleans Pelicans</td>\n",
       "    </tr>\n",
       "  </tbody>\n",
       "</table>\n",
       "<p>140 rows × 9 columns</p>\n",
       "</div>"
      ],
      "text/plain": [
       "     W   L  W/L%    GB   PS/G   PA/G    SRS  Year                  Team\n",
       "0   51  31  .622     —  111.8  104.5   7.02  2022       Boston Celtics*\n",
       "1   51  31  .622     —  109.9  107.3   2.57  2022   Philadelphia 76ers*\n",
       "2   48  34  .585   3.0  109.4  107.1   2.38  2022      Toronto Raptors*\n",
       "3   44  38  .537   7.0  112.9  112.1   0.82  2022        Brooklyn Nets*\n",
       "4   37  45  .451  14.0  106.5  106.6  -0.01  2022       New York Knicks\n",
       "..  ..  ..   ...   ...    ...    ...    ...   ...                   ...\n",
       "13  52  30  .634     —  114.3  109.8   4.97  2025      Houston Rockets*\n",
       "14  48  34  .585   4.0  121.7  116.9   4.79  2025    Memphis Grizzlies*\n",
       "15  39  43  .476  13.0  114.2  115.4  -0.74  2025      Dallas Mavericks\n",
       "16  34  48  .415  18.0  113.9  116.7  -2.45  2025     San Antonio Spurs\n",
       "17  21  61  .256  31.0  109.8  119.3  -8.59  2025  New Orleans Pelicans\n",
       "\n",
       "[140 rows x 9 columns]"
      ]
     },
     "execution_count": 49,
     "metadata": {},
     "output_type": "execute_result"
    }
   ],
   "source": [
    "teams"
   ]
  },
  {
   "cell_type": "code",
   "execution_count": 51,
   "id": "b0435127",
   "metadata": {},
   "outputs": [],
   "source": [
    "teams.to_csv(\"teams.csv\", mode='a', header=False)"
   ]
  }
 ],
 "metadata": {
  "kernelspec": {
   "display_name": ".venv",
   "language": "python",
   "name": "python3"
  },
  "language_info": {
   "codemirror_mode": {
    "name": "ipython",
    "version": 3
   },
   "file_extension": ".py",
   "mimetype": "text/x-python",
   "name": "python",
   "nbconvert_exporter": "python",
   "pygments_lexer": "ipython3",
   "version": "3.13.1"
  }
 },
 "nbformat": 4,
 "nbformat_minor": 5
}
