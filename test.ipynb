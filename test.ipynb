{
 "cells": [
  {
   "cell_type": "code",
   "execution_count": 13,
   "id": "1e79cac0",
   "metadata": {},
   "outputs": [],
   "source": [
    "years = list(range(1991, 2025))\n"
   ]
  },
  {
   "cell_type": "code",
   "execution_count": 14,
   "id": "6fb5227a",
   "metadata": {},
   "outputs": [],
   "source": [
    "url_start = \"https://www.basketball-reference.com/awards/awards_{}.html\""
   ]
  },
  {
   "cell_type": "code",
   "execution_count": 15,
   "id": "e960d6dd",
   "metadata": {},
   "outputs": [],
   "source": [
    "import requests\n",
    "\n",
    "year = 1991\n",
    "for year in years:\n",
    "    url = url_start.format(year)\n",
    "    data = requests.get(url)"
   ]
  }
 ],
 "metadata": {
  "kernelspec": {
   "display_name": ".venv",
   "language": "python",
   "name": "python3"
  },
  "language_info": {
   "codemirror_mode": {
    "name": "ipython",
    "version": 3
   },
   "file_extension": ".py",
   "mimetype": "text/x-python",
   "name": "python",
   "nbconvert_exporter": "python",
   "pygments_lexer": "ipython3",
   "version": "3.13.1"
  }
 },
 "nbformat": 4,
 "nbformat_minor": 5
}
