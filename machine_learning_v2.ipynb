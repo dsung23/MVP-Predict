{
 "cells": [
  {
   "cell_type": "code",
   "execution_count": 1,
   "id": "e1bf6eb0",
   "metadata": {},
   "outputs": [],
   "source": [
    "#importing libraries\n",
    "import pandas as pd\n",
    "import tqdm as tqdm"
   ]
  },
  {
   "cell_type": "code",
   "execution_count": 2,
   "id": "3ee44fb3",
   "metadata": {},
   "outputs": [],
   "source": [
    "#reading in the data\n",
    "stats = pd.read_csv(\"all_stats.csv\")"
   ]
  },
  {
   "cell_type": "code",
   "execution_count": 3,
   "id": "4f31ace6",
   "metadata": {},
   "outputs": [
    {
     "data": {
      "text/html": [
       "<div>\n",
       "<style scoped>\n",
       "    .dataframe tbody tr th:only-of-type {\n",
       "        vertical-align: middle;\n",
       "    }\n",
       "\n",
       "    .dataframe tbody tr th {\n",
       "        vertical-align: top;\n",
       "    }\n",
       "\n",
       "    .dataframe thead th {\n",
       "        text-align: right;\n",
       "    }\n",
       "</style>\n",
       "<table border=\"1\" class=\"dataframe\">\n",
       "  <thead>\n",
       "    <tr style=\"text-align: right;\">\n",
       "      <th></th>\n",
       "      <th>Player</th>\n",
       "      <th>Pos</th>\n",
       "      <th>Age</th>\n",
       "      <th>Tm</th>\n",
       "      <th>G</th>\n",
       "      <th>GS</th>\n",
       "      <th>MP</th>\n",
       "      <th>FG</th>\n",
       "      <th>FGA</th>\n",
       "      <th>FG%</th>\n",
       "      <th>...</th>\n",
       "      <th>WS/48</th>\n",
       "      <th>OBPM</th>\n",
       "      <th>DBPM</th>\n",
       "      <th>BPM</th>\n",
       "      <th>VORP</th>\n",
       "      <th>PTS_T</th>\n",
       "      <th>AST_R</th>\n",
       "      <th>STL_R</th>\n",
       "      <th>BLK_R</th>\n",
       "      <th>3P_R</th>\n",
       "    </tr>\n",
       "  </thead>\n",
       "  <tbody>\n",
       "    <tr>\n",
       "      <th>0</th>\n",
       "      <td>A.C. Green</td>\n",
       "      <td>SF</td>\n",
       "      <td>32</td>\n",
       "      <td>PHO</td>\n",
       "      <td>82</td>\n",
       "      <td>36</td>\n",
       "      <td>25.8</td>\n",
       "      <td>2.6</td>\n",
       "      <td>5.4</td>\n",
       "      <td>0.484</td>\n",
       "      <td>...</td>\n",
       "      <td>0.100</td>\n",
       "      <td>-0.4</td>\n",
       "      <td>-0.9</td>\n",
       "      <td>-1.3</td>\n",
       "      <td>0.4</td>\n",
       "      <td>0.889320</td>\n",
       "      <td>0.466739</td>\n",
       "      <td>0.723462</td>\n",
       "      <td>0.697826</td>\n",
       "      <td>0.402634</td>\n",
       "    </tr>\n",
       "    <tr>\n",
       "      <th>1</th>\n",
       "      <td>A.C. Green</td>\n",
       "      <td>PF</td>\n",
       "      <td>37</td>\n",
       "      <td>MIA</td>\n",
       "      <td>82</td>\n",
       "      <td>1</td>\n",
       "      <td>17.2</td>\n",
       "      <td>1.8</td>\n",
       "      <td>4.0</td>\n",
       "      <td>0.444</td>\n",
       "      <td>...</td>\n",
       "      <td>0.110</td>\n",
       "      <td>-2.2</td>\n",
       "      <td>0.0</td>\n",
       "      <td>-2.2</td>\n",
       "      <td>-0.1</td>\n",
       "      <td>0.576052</td>\n",
       "      <td>0.274186</td>\n",
       "      <td>0.596349</td>\n",
       "      <td>0.228025</td>\n",
       "      <td>0.000000</td>\n",
       "    </tr>\n",
       "    <tr>\n",
       "      <th>2</th>\n",
       "      <td>A.C. Green</td>\n",
       "      <td>PF</td>\n",
       "      <td>33</td>\n",
       "      <td>DAL</td>\n",
       "      <td>83</td>\n",
       "      <td>73</td>\n",
       "      <td>30.0</td>\n",
       "      <td>2.8</td>\n",
       "      <td>5.8</td>\n",
       "      <td>0.483</td>\n",
       "      <td>...</td>\n",
       "      <td>0.093</td>\n",
       "      <td>-1.0</td>\n",
       "      <td>-0.4</td>\n",
       "      <td>-1.4</td>\n",
       "      <td>0.4</td>\n",
       "      <td>0.896924</td>\n",
       "      <td>0.439243</td>\n",
       "      <td>1.136598</td>\n",
       "      <td>0.472416</td>\n",
       "      <td>0.000000</td>\n",
       "    </tr>\n",
       "    <tr>\n",
       "      <th>3</th>\n",
       "      <td>A.C. Green</td>\n",
       "      <td>PF</td>\n",
       "      <td>34</td>\n",
       "      <td>DAL</td>\n",
       "      <td>82</td>\n",
       "      <td>68</td>\n",
       "      <td>32.3</td>\n",
       "      <td>3.0</td>\n",
       "      <td>6.5</td>\n",
       "      <td>0.453</td>\n",
       "      <td>...</td>\n",
       "      <td>0.095</td>\n",
       "      <td>-1.1</td>\n",
       "      <td>-0.3</td>\n",
       "      <td>-1.4</td>\n",
       "      <td>0.4</td>\n",
       "      <td>0.918463</td>\n",
       "      <td>0.824362</td>\n",
       "      <td>1.394536</td>\n",
       "      <td>0.708445</td>\n",
       "      <td>0.000000</td>\n",
       "    </tr>\n",
       "    <tr>\n",
       "      <th>4</th>\n",
       "      <td>A.C. Green</td>\n",
       "      <td>PF</td>\n",
       "      <td>35</td>\n",
       "      <td>DAL</td>\n",
       "      <td>50</td>\n",
       "      <td>35</td>\n",
       "      <td>18.5</td>\n",
       "      <td>2.2</td>\n",
       "      <td>5.1</td>\n",
       "      <td>0.422</td>\n",
       "      <td>...</td>\n",
       "      <td>0.074</td>\n",
       "      <td>-1.1</td>\n",
       "      <td>-1.1</td>\n",
       "      <td>-2.2</td>\n",
       "      <td>0.0</td>\n",
       "      <td>0.667203</td>\n",
       "      <td>0.302863</td>\n",
       "      <td>0.888889</td>\n",
       "      <td>0.498584</td>\n",
       "      <td>0.000000</td>\n",
       "    </tr>\n",
       "    <tr>\n",
       "      <th>...</th>\n",
       "      <td>...</td>\n",
       "      <td>...</td>\n",
       "      <td>...</td>\n",
       "      <td>...</td>\n",
       "      <td>...</td>\n",
       "      <td>...</td>\n",
       "      <td>...</td>\n",
       "      <td>...</td>\n",
       "      <td>...</td>\n",
       "      <td>...</td>\n",
       "      <td>...</td>\n",
       "      <td>...</td>\n",
       "      <td>...</td>\n",
       "      <td>...</td>\n",
       "      <td>...</td>\n",
       "      <td>...</td>\n",
       "      <td>...</td>\n",
       "      <td>...</td>\n",
       "      <td>...</td>\n",
       "      <td>...</td>\n",
       "      <td>...</td>\n",
       "    </tr>\n",
       "    <tr>\n",
       "      <th>16028</th>\n",
       "      <td>Željko Rebrača</td>\n",
       "      <td>C</td>\n",
       "      <td>30</td>\n",
       "      <td>DET</td>\n",
       "      <td>30</td>\n",
       "      <td>12</td>\n",
       "      <td>16.3</td>\n",
       "      <td>2.7</td>\n",
       "      <td>4.8</td>\n",
       "      <td>0.552</td>\n",
       "      <td>...</td>\n",
       "      <td>0.133</td>\n",
       "      <td>-2.8</td>\n",
       "      <td>0.2</td>\n",
       "      <td>-2.6</td>\n",
       "      <td>-0.1</td>\n",
       "      <td>0.840864</td>\n",
       "      <td>0.168261</td>\n",
       "      <td>0.297429</td>\n",
       "      <td>1.383621</td>\n",
       "      <td>0.000000</td>\n",
       "    </tr>\n",
       "    <tr>\n",
       "      <th>16029</th>\n",
       "      <td>Željko Rebrača</td>\n",
       "      <td>C</td>\n",
       "      <td>29</td>\n",
       "      <td>DET</td>\n",
       "      <td>74</td>\n",
       "      <td>4</td>\n",
       "      <td>15.9</td>\n",
       "      <td>2.6</td>\n",
       "      <td>5.1</td>\n",
       "      <td>0.505</td>\n",
       "      <td>...</td>\n",
       "      <td>0.134</td>\n",
       "      <td>-2.9</td>\n",
       "      <td>0.6</td>\n",
       "      <td>-2.3</td>\n",
       "      <td>-0.1</td>\n",
       "      <td>0.864440</td>\n",
       "      <td>0.271504</td>\n",
       "      <td>0.598029</td>\n",
       "      <td>2.231237</td>\n",
       "      <td>0.000000</td>\n",
       "    </tr>\n",
       "    <tr>\n",
       "      <th>16030</th>\n",
       "      <td>Željko Rebrača</td>\n",
       "      <td>C</td>\n",
       "      <td>32</td>\n",
       "      <td>LAC</td>\n",
       "      <td>58</td>\n",
       "      <td>2</td>\n",
       "      <td>16.0</td>\n",
       "      <td>2.3</td>\n",
       "      <td>4.0</td>\n",
       "      <td>0.568</td>\n",
       "      <td>...</td>\n",
       "      <td>0.122</td>\n",
       "      <td>-1.7</td>\n",
       "      <td>0.4</td>\n",
       "      <td>-1.3</td>\n",
       "      <td>0.2</td>\n",
       "      <td>0.717099</td>\n",
       "      <td>0.225462</td>\n",
       "      <td>0.309436</td>\n",
       "      <td>1.693431</td>\n",
       "      <td>0.000000</td>\n",
       "    </tr>\n",
       "    <tr>\n",
       "      <th>16031</th>\n",
       "      <td>Željko Rebrača</td>\n",
       "      <td>C</td>\n",
       "      <td>33</td>\n",
       "      <td>LAC</td>\n",
       "      <td>29</td>\n",
       "      <td>2</td>\n",
       "      <td>14.2</td>\n",
       "      <td>1.8</td>\n",
       "      <td>3.3</td>\n",
       "      <td>0.542</td>\n",
       "      <td>...</td>\n",
       "      <td>0.086</td>\n",
       "      <td>-3.7</td>\n",
       "      <td>0.9</td>\n",
       "      <td>-2.8</td>\n",
       "      <td>-0.1</td>\n",
       "      <td>0.588802</td>\n",
       "      <td>0.177611</td>\n",
       "      <td>0.331404</td>\n",
       "      <td>1.764447</td>\n",
       "      <td>0.000000</td>\n",
       "    </tr>\n",
       "    <tr>\n",
       "      <th>16032</th>\n",
       "      <td>Željko Rebrača</td>\n",
       "      <td>C</td>\n",
       "      <td>31</td>\n",
       "      <td>ATL</td>\n",
       "      <td>24</td>\n",
       "      <td>2</td>\n",
       "      <td>11.4</td>\n",
       "      <td>1.4</td>\n",
       "      <td>3.2</td>\n",
       "      <td>0.442</td>\n",
       "      <td>...</td>\n",
       "      <td>0.097</td>\n",
       "      <td>-4.5</td>\n",
       "      <td>0.6</td>\n",
       "      <td>-3.9</td>\n",
       "      <td>-0.1</td>\n",
       "      <td>0.490623</td>\n",
       "      <td>0.170591</td>\n",
       "      <td>0.298851</td>\n",
       "      <td>1.198482</td>\n",
       "      <td>0.000000</td>\n",
       "    </tr>\n",
       "  </tbody>\n",
       "</table>\n",
       "<p>16033 rows × 67 columns</p>\n",
       "</div>"
      ],
      "text/plain": [
       "               Player Pos  Age   Tm   G  GS    MP   FG  FGA    FG%  ...  \\\n",
       "0          A.C. Green  SF   32  PHO  82  36  25.8  2.6  5.4  0.484  ...   \n",
       "1          A.C. Green  PF   37  MIA  82   1  17.2  1.8  4.0  0.444  ...   \n",
       "2          A.C. Green  PF   33  DAL  83  73  30.0  2.8  5.8  0.483  ...   \n",
       "3          A.C. Green  PF   34  DAL  82  68  32.3  3.0  6.5  0.453  ...   \n",
       "4          A.C. Green  PF   35  DAL  50  35  18.5  2.2  5.1  0.422  ...   \n",
       "...               ...  ..  ...  ...  ..  ..   ...  ...  ...    ...  ...   \n",
       "16028  Željko Rebrača   C   30  DET  30  12  16.3  2.7  4.8  0.552  ...   \n",
       "16029  Željko Rebrača   C   29  DET  74   4  15.9  2.6  5.1  0.505  ...   \n",
       "16030  Željko Rebrača   C   32  LAC  58   2  16.0  2.3  4.0  0.568  ...   \n",
       "16031  Željko Rebrača   C   33  LAC  29   2  14.2  1.8  3.3  0.542  ...   \n",
       "16032  Željko Rebrača   C   31  ATL  24   2  11.4  1.4  3.2  0.442  ...   \n",
       "\n",
       "       WS/48  OBPM  DBPM  BPM  VORP     PTS_T     AST_R     STL_R     BLK_R  \\\n",
       "0      0.100  -0.4  -0.9 -1.3   0.4  0.889320  0.466739  0.723462  0.697826   \n",
       "1      0.110  -2.2   0.0 -2.2  -0.1  0.576052  0.274186  0.596349  0.228025   \n",
       "2      0.093  -1.0  -0.4 -1.4   0.4  0.896924  0.439243  1.136598  0.472416   \n",
       "3      0.095  -1.1  -0.3 -1.4   0.4  0.918463  0.824362  1.394536  0.708445   \n",
       "4      0.074  -1.1  -1.1 -2.2   0.0  0.667203  0.302863  0.888889  0.498584   \n",
       "...      ...   ...   ...  ...   ...       ...       ...       ...       ...   \n",
       "16028  0.133  -2.8   0.2 -2.6  -0.1  0.840864  0.168261  0.297429  1.383621   \n",
       "16029  0.134  -2.9   0.6 -2.3  -0.1  0.864440  0.271504  0.598029  2.231237   \n",
       "16030  0.122  -1.7   0.4 -1.3   0.2  0.717099  0.225462  0.309436  1.693431   \n",
       "16031  0.086  -3.7   0.9 -2.8  -0.1  0.588802  0.177611  0.331404  1.764447   \n",
       "16032  0.097  -4.5   0.6 -3.9  -0.1  0.490623  0.170591  0.298851  1.198482   \n",
       "\n",
       "           3P_R  \n",
       "0      0.402634  \n",
       "1      0.000000  \n",
       "2      0.000000  \n",
       "3      0.000000  \n",
       "4      0.000000  \n",
       "...         ...  \n",
       "16028  0.000000  \n",
       "16029  0.000000  \n",
       "16030  0.000000  \n",
       "16031  0.000000  \n",
       "16032  0.000000  \n",
       "\n",
       "[16033 rows x 67 columns]"
      ]
     },
     "execution_count": 3,
     "metadata": {},
     "output_type": "execute_result"
    }
   ],
   "source": [
    "#\n",
    "stats"
   ]
  },
  {
   "cell_type": "code",
   "execution_count": 4,
   "id": "f6fd4040",
   "metadata": {},
   "outputs": [],
   "source": [
    "#fill in missing values with 0\n",
    "stats = stats.fillna(0)"
   ]
  },
  {
   "cell_type": "code",
   "execution_count": 5,
   "id": "4adb0db2",
   "metadata": {},
   "outputs": [
    {
     "data": {
      "text/plain": [
       "Index(['Player', 'Pos', 'Age', 'Tm', 'G', 'GS', 'MP', 'FG', 'FGA', 'FG%', '3P',\n",
       "       '3PA', '3P%', '2P', '2PA', '2P%', 'eFG%', 'FT', 'FTA', 'FT%', 'ORB',\n",
       "       'DRB', 'TRB', 'AST', 'STL', 'BLK', 'TOV', 'PF', 'PTS', 'Year',\n",
       "       'Pts Won', 'Pts Max', 'Share', 'Team', 'W', 'L', 'W/L%', 'GB', 'PS/G',\n",
       "       'PA/G', 'SRS', 'Rk', 'PER', 'TS%', '3PAr', 'FTr', 'ORB%', 'DRB%',\n",
       "       'TRB%', 'AST%', 'STL%', 'BLK%', 'TOV%', 'USG%', 'OWS', 'DWS', 'WS',\n",
       "       'WS/48', 'OBPM', 'DBPM', 'BPM', 'VORP', 'PTS_T', 'AST_R', 'STL_R',\n",
       "       'BLK_R', '3P_R'],\n",
       "      dtype='object')"
      ]
     },
     "execution_count": 5,
     "metadata": {},
     "output_type": "execute_result"
    }
   ],
   "source": [
    "stats.columns"
   ]
  },
  {
   "cell_type": "code",
   "execution_count": 6,
   "id": "d790e85a",
   "metadata": {},
   "outputs": [],
   "source": [
    "#setting up the predictors\n",
    "predictors = ['Age', 'G', 'GS', 'MP', 'FG', 'FGA', 'FG%', '3P',\n",
    "       '3PA', '3P%', '2P', '2PA', '2P%', 'eFG%', 'FT', 'FTA', 'FT%', 'ORB',\n",
    "       'DRB', 'TRB', 'AST', 'STL', 'BLK', 'TOV', 'PF', 'PTS', 'Year',\n",
    "       'W', 'L', 'W/L%', 'GB', 'PS/G',\n",
    "       'PA/G', 'SRS', 'Rk', 'PER', 'TS%', '3PAr', 'FTr', 'ORB%', 'DRB%',\n",
    "       'TRB%', 'AST%', 'STL%', 'BLK%', 'TOV%', 'USG%', 'OWS', 'DWS', 'WS',\n",
    "       'WS/48', 'OBPM', 'DBPM', 'BPM', 'VORP']"
   ]
  },
  {
   "cell_type": "code",
   "execution_count": 7,
   "id": "4fede320",
   "metadata": {},
   "outputs": [],
   "source": [
    "#split data into training and testing sets\n",
    "train = stats[stats[\"Year\"] < 2025]\n",
    "test = stats[stats[\"Year\"] == 2025]"
   ]
  },
  {
   "cell_type": "code",
   "execution_count": 8,
   "id": "4400bb67",
   "metadata": {},
   "outputs": [],
   "source": [
    "#function to find the average precision\n",
    "def find_ap(combination):\n",
    "    actual = combination.sort_values(\"Share\", ascending=False).head(5)\n",
    "    predicted = combination.sort_values(\"predictions\", ascending=False)\n",
    "    ps=[]\n",
    "    found=0\n",
    "    seen=1\n",
    "    for index, row in predicted.iterrows():\n",
    "        if row[\"Player\"] in actual[\"Player\"].values:\n",
    "            found +=1\n",
    "            ps.append(found/seen)\n",
    "        seen +=1\n",
    "    return sum(ps)/len(ps)\n",
    "\n"
   ]
  },
  {
   "cell_type": "code",
   "execution_count": 9,
   "id": "5b607112",
   "metadata": {},
   "outputs": [],
   "source": [
    "#function to add ranks to the combination dataframe\n",
    "def add_ranks(combination):\n",
    "    # Add actual ranks\n",
    "    combination = combination.sort_values(\"Share\", ascending=False)\n",
    "    combination[\"Rk\"] = list(range(1, combination.shape[0] + 1))\n",
    "    combination['Rk'] = combination['Rk'].apply(lambda x: x if x <= 10 else 11)\n",
    "    # Add predicted ranks\n",
    "    combination = combination.sort_values(\"predictions\", ascending=False)\n",
    "    combination[\"Predicted_Rk\"] = list(range(1, combination.shape[0] + 1))\n",
    "    combination['Predicted_Rk'] = combination['Predicted_Rk'].apply(lambda x: x if x <= 10 else 11)\n",
    "    combination[\"Diff\"] = combination[\"Rk\"] - combination[\"Predicted_Rk\"]\n",
    "    return combination\n"
   ]
  },
  {
   "cell_type": "code",
   "execution_count": 10,
   "id": "6799afcb",
   "metadata": {},
   "outputs": [],
   "source": [
    "#Backtesting the model\n",
    "def backtest(stats, model, year, predictors):\n",
    "    aps = []\n",
    "    all_predictions = []\n",
    "    for year in tqdm.tqdm(years[5:]):\n",
    "        train = stats[stats[\"Year\"] < year]\n",
    "        test = stats[stats[\"Year\"] == year]\n",
    "\n",
    "        model.fit(train[predictors], train[\"Share\"])\n",
    "        predictions = model.predict((test[predictors]))\n",
    "        predictions = pd.DataFrame(predictions, columns=[\"predictions\"], index=test.index)\n",
    "        combination = pd.concat([test[[\"Player\", \"Share\"]], predictions], axis=1)\n",
    "        combination = add_ranks(combination)\n",
    "        all_predictions.append(combination)\n",
    "        aps.append(find_ap(combination))\n",
    "    return sum(aps)/len(aps), aps, pd.concat(all_predictions)\n",
    "    "
   ]
  },
  {
   "cell_type": "code",
   "execution_count": 11,
   "id": "30132b98",
   "metadata": {},
   "outputs": [],
   "source": [
    "#adding ratios to the stats dataframe\n",
    "# stat_ratios = stats[[\"PTS\", \"AST\", \"STL\", \"BLK\", \"3P\", \"Year\"]].groupby(\"Year\").apply(lambda x: x/x.mean())\n",
    "# stat_ratios = stat_ratios.reset_index(level=0, drop=True)\n",
    "# stats[[\"PTS_T\", \"AST_R\", \"STL_R\", \"BLK_R\", \"3P_R\"]] = stat_ratios[[\"PTS\", \"AST\", \"STL\", \"BLK\", \"3P\"]]"
   ]
  },
  {
   "cell_type": "code",
   "execution_count": 12,
   "id": "f43fb752",
   "metadata": {},
   "outputs": [],
   "source": [
    "# stats.to_csv(\"all_stats.csv\", index=False)"
   ]
  },
  {
   "cell_type": "code",
   "execution_count": 13,
   "id": "5ecf97eb",
   "metadata": {},
   "outputs": [],
   "source": [
    "#adding stats ratios to the predictors\n",
    "# predictors += [\"PTS_T\", \"AST_R\", \"STL_R\", \"BLK_R\", \"3P_R\"]"
   ]
  },
  {
   "cell_type": "code",
   "execution_count": 14,
   "id": "478c4fe8",
   "metadata": {},
   "outputs": [],
   "source": [
    "years = list(range(1991, 2026))"
   ]
  },
  {
   "cell_type": "code",
   "execution_count": 32,
   "id": "4d598cf7",
   "metadata": {},
   "outputs": [
    {
     "data": {
      "text/plain": [
       "(                        Player  Share  predictions  Rk  Predicted_Rk  Diff\n",
       " 13676  Shai Gilgeous-Alexander  0.913     0.743835   1             1     0\n",
       " 11649             Nikola Jokić  0.787     0.534912   2             2     0\n",
       " 5675     Giannis Antetokounmpo  0.470     0.247551   3             3     0\n",
       " 7286              Jayson Tatum  0.311     0.049419   4             4     0\n",
       " 821            Anthony Edwards  0.012     0.045381   7             5     2\n",
       " ...                        ...    ...          ...  ..           ...   ...\n",
       " 15972          Zion Williamson  0.000    -0.000085  11            11     0\n",
       " 7028             Jarrett Allen  0.000    -0.000165  11            11     0\n",
       " 8600        Karl-Anthony Towns  0.000    -0.000899  11            11     0\n",
       " 15189                Ty Jerome  0.000    -0.001007  11            11     0\n",
       " 6373               Ivica Zubac  0.000    -0.002970  11            11     0\n",
       " \n",
       " [488 rows x 6 columns],\n",
       " 0.82)"
      ]
     },
     "execution_count": 32,
     "metadata": {},
     "output_type": "execute_result"
    }
   ],
   "source": [
    "from sklearn.ensemble import HistGradientBoostingRegressor\n",
    "\n",
    "hgb = HistGradientBoostingRegressor(random_state=1, max_iter=200, learning_rate=0.01)\n",
    "\n",
    "hgb.fit(train[predictors], train[\"Share\"])\n",
    "\n",
    "predictions = hgb.predict(test[predictors])\n",
    "predictions = pd.DataFrame(predictions, columns=[\"predictions\"], index=test.index)\n",
    "combination = pd.concat([test[[\"Player\", \"Share\"]], predictions], axis=1)\n",
    "ap = find_ap(combination)\n",
    "add_ranks(combination), ap\n"
   ]
  },
  {
   "cell_type": "code",
   "execution_count": 33,
   "id": "1918a99b",
   "metadata": {},
   "outputs": [
    {
     "name": "stderr",
     "output_type": "stream",
     "text": [
      "100%|██████████| 30/30 [02:58<00:00,  5.95s/it]\n"
     ]
    }
   ],
   "source": [
    "#using the HistGradientBoostingRegressor\n",
    "\n",
    "\n",
    "mean_ap, aps, all_predictions = backtest(stats, hgb, years[5:], predictors)\n"
   ]
  },
  {
   "cell_type": "code",
   "execution_count": 34,
   "id": "d3191b6c",
   "metadata": {},
   "outputs": [
    {
     "data": {
      "text/plain": [
       "0.8026893943240877"
      ]
     },
     "execution_count": 34,
     "metadata": {},
     "output_type": "execute_result"
    }
   ],
   "source": [
    "mean_ap"
   ]
  },
  {
   "cell_type": "code",
   "execution_count": 46,
   "id": "a462e291",
   "metadata": {},
   "outputs": [
    {
     "name": "stdout",
     "output_type": "stream",
     "text": [
      "[LightGBM] [Info] Auto-choosing col-wise multi-threading, the overhead of testing was 0.012739 seconds.\n",
      "You can set `force_col_wise=true` to remove the overhead.\n",
      "[LightGBM] [Info] Total Bins 9027\n",
      "[LightGBM] [Info] Number of data points in the train set: 15545, number of used features: 55\n",
      "[LightGBM] [Info] Start training from score 0.005686\n"
     ]
    }
   ],
   "source": [
    "#importing the models\n",
    "from sklearn.ensemble import HistGradientBoostingRegressor, GradientBoostingRegressor, VotingRegressor\n",
    "from xgboost import XGBRegressor\n",
    "from lightgbm import LGBMRegressor\n",
    "lgb_model = LGBMRegressor(n_estimators=100, random_state=1)\n",
    "hgb_model = HistGradientBoostingRegressor(random_state=1, max_iter=100)\n",
    "xg_model = XGBRegressor(random_state=1, n_estimators=100, learning_rate=0.01)\n",
    "#fitting the model\n",
    "voting_model = VotingRegressor(estimators=[('lgb', lgb_model), ('hgb', hgb_model), ('xg', xg_model)])\n",
    "voting_model.fit(train[predictors], train[\"Share\"])\n",
    "#making predictions for 2025\n",
    "predictions = voting_model.predict(test[predictors])\n",
    "predictions = pd.DataFrame(predictions, columns=[\"predictions\"], index=test.index)\n",
    "\n",
    "\n",
    "\n",
    "\n",
    "\n",
    "\n",
    "\n"
   ]
  },
  {
   "cell_type": "code",
   "execution_count": 47,
   "id": "1461729f",
   "metadata": {},
   "outputs": [
    {
     "data": {
      "text/plain": [
       "(                        Player  Share  predictions  Rk  Predicted_Rk  Diff\n",
       " 13676  Shai Gilgeous-Alexander  0.913     0.794371   1             1     0\n",
       " 11649             Nikola Jokić  0.787     0.571223   2             2     0\n",
       " 5675     Giannis Antetokounmpo  0.470     0.304992   3             3     0\n",
       " 7286              Jayson Tatum  0.311     0.084043   4             4     0\n",
       " 14962               Trae Young  0.000     0.070645  11             5     6\n",
       " ...                        ...    ...          ...  ..           ...   ...\n",
       " 15972          Zion Williamson  0.000    -0.003411  11            11     0\n",
       " 14034            Stephen Curry  0.002    -0.003414   9            11    -2\n",
       " 6622             Jalen Brunson  0.001    -0.003930  11            11     0\n",
       " 8941              Kevin Durant  0.000    -0.004852  11            11     0\n",
       " 7824               Joel Embiid  0.000    -0.006753  11            11     0\n",
       " \n",
       " [488 rows x 6 columns],\n",
       " 0.8277777777777778)"
      ]
     },
     "execution_count": 47,
     "metadata": {},
     "output_type": "execute_result"
    }
   ],
   "source": [
    "combination = pd.concat([test[[\"Player\", \"Share\"]], predictions], axis=1)\n",
    "ap = find_ap(combination)\n",
    "add_ranks(combination), ap\n",
    "\n",
    "\n",
    "\n"
   ]
  },
  {
   "cell_type": "code",
   "execution_count": 51,
   "id": "e22ceaea",
   "metadata": {},
   "outputs": [
    {
     "name": "stderr",
     "output_type": "stream",
     "text": [
      "  0%|          | 0/30 [00:00<?, ?it/s]"
     ]
    },
    {
     "name": "stdout",
     "output_type": "stream",
     "text": [
      "[LightGBM] [Info] Auto-choosing col-wise multi-threading, the overhead of testing was 0.002843 seconds.\n",
      "You can set `force_col_wise=true` to remove the overhead.\n",
      "[LightGBM] [Info] Total Bins 7286\n",
      "[LightGBM] [Info] Number of data points in the train set: 1969, number of used features: 55\n",
      "[LightGBM] [Info] Start training from score 0.006601\n",
      "[LightGBM] [Warning] No further splits with positive gain, best gain: -inf\n",
      "[LightGBM] [Warning] No further splits with positive gain, best gain: -inf\n",
      "[LightGBM] [Warning] No further splits with positive gain, best gain: -inf\n",
      "[LightGBM] [Warning] No further splits with positive gain, best gain: -inf\n",
      "[LightGBM] [Warning] No further splits with positive gain, best gain: -inf\n"
     ]
    },
    {
     "name": "stderr",
     "output_type": "stream",
     "text": [
      "  3%|▎         | 1/30 [00:02<01:14,  2.56s/it]"
     ]
    },
    {
     "name": "stdout",
     "output_type": "stream",
     "text": [
      "[LightGBM] [Info] Auto-choosing col-wise multi-threading, the overhead of testing was 0.019434 seconds.\n",
      "You can set `force_col_wise=true` to remove the overhead.\n",
      "[LightGBM] [Info] Total Bins 7566\n",
      "[LightGBM] [Info] Number of data points in the train set: 2397, number of used features: 55\n",
      "[LightGBM] [Info] Start training from score 0.006509\n",
      "[LightGBM] [Warning] No further splits with positive gain, best gain: -inf\n",
      "[LightGBM] [Warning] No further splits with positive gain, best gain: -inf\n",
      "[LightGBM] [Warning] No further splits with positive gain, best gain: -inf\n",
      "[LightGBM] [Warning] No further splits with positive gain, best gain: -inf\n"
     ]
    },
    {
     "name": "stderr",
     "output_type": "stream",
     "text": [
      "  7%|▋         | 2/30 [00:06<01:27,  3.11s/it]"
     ]
    },
    {
     "name": "stdout",
     "output_type": "stream",
     "text": [
      "[LightGBM] [Info] Auto-choosing col-wise multi-threading, the overhead of testing was 0.002095 seconds.\n",
      "You can set `force_col_wise=true` to remove the overhead.\n",
      "[LightGBM] [Info] Total Bins 7749\n",
      "[LightGBM] [Info] Number of data points in the train set: 2838, number of used features: 55\n",
      "[LightGBM] [Info] Start training from score 0.006413\n",
      "[LightGBM] [Warning] No further splits with positive gain, best gain: -inf\n",
      "[LightGBM] [Warning] No further splits with positive gain, best gain: -inf\n"
     ]
    },
    {
     "name": "stderr",
     "output_type": "stream",
     "text": [
      " 10%|█         | 3/30 [00:10<01:44,  3.85s/it]"
     ]
    },
    {
     "name": "stdout",
     "output_type": "stream",
     "text": [
      "[LightGBM] [Info] Auto-choosing col-wise multi-threading, the overhead of testing was 0.003388 seconds.\n",
      "You can set `force_col_wise=true` to remove the overhead.\n",
      "[LightGBM] [Info] Total Bins 7905\n",
      "[LightGBM] [Info] Number of data points in the train set: 3277, number of used features: 55\n",
      "[LightGBM] [Info] Start training from score 0.006348\n",
      "[LightGBM] [Warning] No further splits with positive gain, best gain: -inf\n"
     ]
    },
    {
     "name": "stderr",
     "output_type": "stream",
     "text": [
      " 13%|█▎        | 4/30 [00:14<01:33,  3.61s/it]"
     ]
    },
    {
     "name": "stdout",
     "output_type": "stream",
     "text": [
      "[LightGBM] [Info] Auto-choosing col-wise multi-threading, the overhead of testing was 0.002219 seconds.\n",
      "You can set `force_col_wise=true` to remove the overhead.\n",
      "[LightGBM] [Info] Total Bins 8058\n",
      "[LightGBM] [Info] Number of data points in the train set: 3717, number of used features: 55\n",
      "[LightGBM] [Info] Start training from score 0.006296\n",
      "[LightGBM] [Warning] No further splits with positive gain, best gain: -inf\n"
     ]
    },
    {
     "name": "stderr",
     "output_type": "stream",
     "text": [
      " 17%|█▋        | 5/30 [00:16<01:23,  3.34s/it]"
     ]
    },
    {
     "name": "stdout",
     "output_type": "stream",
     "text": [
      "[LightGBM] [Info] Auto-choosing col-wise multi-threading, the overhead of testing was 0.001970 seconds.\n",
      "You can set `force_col_wise=true` to remove the overhead.\n",
      "[LightGBM] [Info] Total Bins 8149\n",
      "[LightGBM] [Info] Number of data points in the train set: 4156, number of used features: 55\n",
      "[LightGBM] [Info] Start training from score 0.006257\n",
      "[LightGBM] [Warning] No further splits with positive gain, best gain: -inf\n"
     ]
    },
    {
     "name": "stderr",
     "output_type": "stream",
     "text": [
      " 20%|██        | 6/30 [00:19<01:11,  2.96s/it]"
     ]
    },
    {
     "name": "stdout",
     "output_type": "stream",
     "text": [
      "[LightGBM] [Info] Auto-choosing col-wise multi-threading, the overhead of testing was 0.002002 seconds.\n",
      "You can set `force_col_wise=true` to remove the overhead.\n",
      "[LightGBM] [Info] Total Bins 8234\n",
      "[LightGBM] [Info] Number of data points in the train set: 4597, number of used features: 55\n",
      "[LightGBM] [Info] Start training from score 0.006223\n",
      "[LightGBM] [Warning] No further splits with positive gain, best gain: -inf\n"
     ]
    },
    {
     "name": "stderr",
     "output_type": "stream",
     "text": [
      " 23%|██▎       | 7/30 [00:21<01:00,  2.64s/it]"
     ]
    },
    {
     "name": "stdout",
     "output_type": "stream",
     "text": [
      "[LightGBM] [Info] Auto-choosing col-wise multi-threading, the overhead of testing was 0.002637 seconds.\n",
      "You can set `force_col_wise=true` to remove the overhead.\n",
      "[LightGBM] [Info] Total Bins 8268\n",
      "[LightGBM] [Info] Number of data points in the train set: 5037, number of used features: 55\n",
      "[LightGBM] [Info] Start training from score 0.006195\n"
     ]
    },
    {
     "name": "stderr",
     "output_type": "stream",
     "text": [
      " 27%|██▋       | 8/30 [00:22<00:52,  2.39s/it]"
     ]
    },
    {
     "name": "stdout",
     "output_type": "stream",
     "text": [
      "[LightGBM] [Info] Auto-choosing col-wise multi-threading, the overhead of testing was 0.003202 seconds.\n",
      "You can set `force_col_wise=true` to remove the overhead.\n",
      "[LightGBM] [Info] Total Bins 8333\n",
      "[LightGBM] [Info] Number of data points in the train set: 5465, number of used features: 55\n",
      "[LightGBM] [Info] Start training from score 0.006186\n"
     ]
    },
    {
     "name": "stderr",
     "output_type": "stream",
     "text": [
      " 30%|███       | 9/30 [00:25<00:50,  2.41s/it]"
     ]
    },
    {
     "name": "stdout",
     "output_type": "stream",
     "text": [
      "[LightGBM] [Info] Auto-choosing col-wise multi-threading, the overhead of testing was 0.003070 seconds.\n",
      "You can set `force_col_wise=true` to remove the overhead.\n",
      "[LightGBM] [Info] Total Bins 8356\n",
      "[LightGBM] [Info] Number of data points in the train set: 5907, number of used features: 55\n",
      "[LightGBM] [Info] Start training from score 0.006163\n"
     ]
    },
    {
     "name": "stderr",
     "output_type": "stream",
     "text": [
      " 33%|███▎      | 10/30 [00:28<00:51,  2.57s/it]"
     ]
    },
    {
     "name": "stdout",
     "output_type": "stream",
     "text": [
      "[LightGBM] [Info] Auto-choosing col-wise multi-threading, the overhead of testing was 0.003310 seconds.\n",
      "You can set `force_col_wise=true` to remove the overhead.\n",
      "[LightGBM] [Info] Total Bins 8396\n",
      "[LightGBM] [Info] Number of data points in the train set: 6371, number of used features: 55\n",
      "[LightGBM] [Info] Start training from score 0.006122\n"
     ]
    },
    {
     "name": "stderr",
     "output_type": "stream",
     "text": [
      " 37%|███▋      | 11/30 [00:31<00:49,  2.61s/it]"
     ]
    },
    {
     "name": "stdout",
     "output_type": "stream",
     "text": [
      "[LightGBM] [Info] Auto-choosing col-wise multi-threading, the overhead of testing was 0.003418 seconds.\n",
      "You can set `force_col_wise=true` to remove the overhead.\n",
      "[LightGBM] [Info] Total Bins 8438\n",
      "[LightGBM] [Info] Number of data points in the train set: 6829, number of used features: 55\n",
      "[LightGBM] [Info] Start training from score 0.006092\n"
     ]
    },
    {
     "name": "stderr",
     "output_type": "stream",
     "text": [
      " 40%|████      | 12/30 [00:33<00:45,  2.52s/it]"
     ]
    },
    {
     "name": "stdout",
     "output_type": "stream",
     "text": [
      "[LightGBM] [Info] Auto-choosing col-wise multi-threading, the overhead of testing was 0.003622 seconds.\n",
      "You can set `force_col_wise=true` to remove the overhead.\n",
      "[LightGBM] [Info] Total Bins 8498\n",
      "[LightGBM] [Info] Number of data points in the train set: 7286, number of used features: 55\n",
      "[LightGBM] [Info] Start training from score 0.006067\n"
     ]
    },
    {
     "name": "stderr",
     "output_type": "stream",
     "text": [
      " 43%|████▎     | 13/30 [00:35<00:42,  2.51s/it]"
     ]
    },
    {
     "name": "stdout",
     "output_type": "stream",
     "text": [
      "[LightGBM] [Info] Auto-choosing col-wise multi-threading, the overhead of testing was 0.003807 seconds.\n",
      "You can set `force_col_wise=true` to remove the overhead.\n",
      "[LightGBM] [Info] Total Bins 8532\n",
      "[LightGBM] [Info] Number of data points in the train set: 7735, number of used features: 55\n",
      "[LightGBM] [Info] Start training from score 0.006051\n"
     ]
    },
    {
     "name": "stderr",
     "output_type": "stream",
     "text": [
      " 47%|████▋     | 14/30 [00:38<00:41,  2.59s/it]"
     ]
    },
    {
     "name": "stdout",
     "output_type": "stream",
     "text": [
      "[LightGBM] [Info] Auto-choosing col-wise multi-threading, the overhead of testing was 0.004539 seconds.\n",
      "You can set `force_col_wise=true` to remove the overhead.\n",
      "[LightGBM] [Info] Total Bins 8569\n",
      "[LightGBM] [Info] Number of data points in the train set: 8177, number of used features: 55\n",
      "[LightGBM] [Info] Start training from score 0.006042\n"
     ]
    },
    {
     "name": "stderr",
     "output_type": "stream",
     "text": [
      " 50%|█████     | 15/30 [00:41<00:39,  2.61s/it]"
     ]
    },
    {
     "name": "stdout",
     "output_type": "stream",
     "text": [
      "[LightGBM] [Info] Auto-choosing col-wise multi-threading, the overhead of testing was 0.004201 seconds.\n",
      "You can set `force_col_wise=true` to remove the overhead.\n",
      "[LightGBM] [Info] Total Bins 8588\n",
      "[LightGBM] [Info] Number of data points in the train set: 8618, number of used features: 55\n",
      "[LightGBM] [Info] Start training from score 0.006035\n"
     ]
    },
    {
     "name": "stderr",
     "output_type": "stream",
     "text": [
      " 53%|█████▎    | 16/30 [00:44<00:37,  2.67s/it]"
     ]
    },
    {
     "name": "stdout",
     "output_type": "stream",
     "text": [
      "[LightGBM] [Info] Auto-choosing col-wise multi-threading, the overhead of testing was 0.004482 seconds.\n",
      "You can set `force_col_wise=true` to remove the overhead.\n",
      "[LightGBM] [Info] Total Bins 8635\n",
      "[LightGBM] [Info] Number of data points in the train set: 9069, number of used features: 55\n",
      "[LightGBM] [Info] Start training from score 0.006021\n"
     ]
    },
    {
     "name": "stderr",
     "output_type": "stream",
     "text": [
      " 57%|█████▋    | 17/30 [00:46<00:33,  2.60s/it]"
     ]
    },
    {
     "name": "stdout",
     "output_type": "stream",
     "text": [
      "[LightGBM] [Info] Auto-choosing col-wise multi-threading, the overhead of testing was 0.002991 seconds.\n",
      "You can set `force_col_wise=true` to remove the overhead.\n",
      "[LightGBM] [Info] Total Bins 8683\n",
      "[LightGBM] [Info] Number of data points in the train set: 9546, number of used features: 55\n",
      "[LightGBM] [Info] Start training from score 0.005993\n"
     ]
    },
    {
     "name": "stderr",
     "output_type": "stream",
     "text": [
      " 60%|██████    | 18/30 [00:48<00:29,  2.46s/it]"
     ]
    },
    {
     "name": "stdout",
     "output_type": "stream",
     "text": [
      "[LightGBM] [Info] Auto-choosing col-wise multi-threading, the overhead of testing was 0.003624 seconds.\n",
      "You can set `force_col_wise=true` to remove the overhead.\n",
      "[LightGBM] [Info] Total Bins 8735\n",
      "[LightGBM] [Info] Number of data points in the train set: 10012, number of used features: 55\n",
      "[LightGBM] [Info] Start training from score 0.005972\n"
     ]
    },
    {
     "name": "stderr",
     "output_type": "stream",
     "text": [
      " 63%|██████▎   | 19/30 [00:50<00:25,  2.30s/it]"
     ]
    },
    {
     "name": "stdout",
     "output_type": "stream",
     "text": [
      "[LightGBM] [Info] Auto-choosing col-wise multi-threading, the overhead of testing was 0.005677 seconds.\n",
      "You can set `force_col_wise=true` to remove the overhead.\n",
      "[LightGBM] [Info] Total Bins 8751\n",
      "[LightGBM] [Info] Number of data points in the train set: 10491, number of used features: 55\n",
      "[LightGBM] [Info] Start training from score 0.005947\n"
     ]
    },
    {
     "name": "stderr",
     "output_type": "stream",
     "text": [
      " 67%|██████▋   | 20/30 [00:52<00:22,  2.21s/it]"
     ]
    },
    {
     "name": "stdout",
     "output_type": "stream",
     "text": [
      "[LightGBM] [Info] Auto-choosing col-wise multi-threading, the overhead of testing was 0.006489 seconds.\n",
      "You can set `force_col_wise=true` to remove the overhead.\n",
      "[LightGBM] [Info] Total Bins 8768\n",
      "[LightGBM] [Info] Number of data points in the train set: 10982, number of used features: 55\n",
      "[LightGBM] [Info] Start training from score 0.005918\n"
     ]
    },
    {
     "name": "stderr",
     "output_type": "stream",
     "text": [
      " 70%|███████   | 21/30 [00:56<00:24,  2.75s/it]"
     ]
    },
    {
     "name": "stdout",
     "output_type": "stream",
     "text": [
      "[LightGBM] [Info] Auto-choosing row-wise multi-threading, the overhead of testing was 0.009093 seconds.\n",
      "You can set `force_row_wise=true` to remove the overhead.\n",
      "And if memory is not enough, you can set `force_col_wise=true`.\n",
      "[LightGBM] [Info] Total Bins 8789\n",
      "[LightGBM] [Info] Number of data points in the train set: 11457, number of used features: 55\n",
      "[LightGBM] [Info] Start training from score 0.005900\n"
     ]
    },
    {
     "name": "stderr",
     "output_type": "stream",
     "text": [
      " 73%|███████▎  | 22/30 [01:12<00:54,  6.76s/it]"
     ]
    },
    {
     "name": "stdout",
     "output_type": "stream",
     "text": [
      "[LightGBM] [Info] Auto-choosing col-wise multi-threading, the overhead of testing was 0.007749 seconds.\n",
      "You can set `force_col_wise=true` to remove the overhead.\n",
      "[LightGBM] [Info] Total Bins 8823\n",
      "[LightGBM] [Info] Number of data points in the train set: 11942, number of used features: 55\n",
      "[LightGBM] [Info] Start training from score 0.005878\n"
     ]
    },
    {
     "name": "stderr",
     "output_type": "stream",
     "text": [
      " 77%|███████▋  | 23/30 [01:14<00:37,  5.42s/it]"
     ]
    },
    {
     "name": "stdout",
     "output_type": "stream",
     "text": [
      "[LightGBM] [Info] Auto-choosing col-wise multi-threading, the overhead of testing was 0.007491 seconds.\n",
      "You can set `force_col_wise=true` to remove the overhead.\n",
      "[LightGBM] [Info] Total Bins 8851\n",
      "[LightGBM] [Info] Number of data points in the train set: 12480, number of used features: 55\n",
      "[LightGBM] [Info] Start training from score 0.005833\n"
     ]
    },
    {
     "name": "stderr",
     "output_type": "stream",
     "text": [
      " 80%|████████  | 24/30 [01:17<00:27,  4.61s/it]"
     ]
    },
    {
     "name": "stdout",
     "output_type": "stream",
     "text": [
      "[LightGBM] [Info] Auto-choosing col-wise multi-threading, the overhead of testing was 0.006237 seconds.\n",
      "You can set `force_col_wise=true` to remove the overhead.\n",
      "[LightGBM] [Info] Total Bins 8899\n",
      "[LightGBM] [Info] Number of data points in the train set: 13009, number of used features: 55\n",
      "[LightGBM] [Info] Start training from score 0.005795\n"
     ]
    },
    {
     "name": "stderr",
     "output_type": "stream",
     "text": [
      " 83%|████████▎ | 25/30 [01:19<00:19,  3.89s/it]"
     ]
    },
    {
     "name": "stdout",
     "output_type": "stream",
     "text": [
      "[LightGBM] [Info] Auto-choosing col-wise multi-threading, the overhead of testing was 0.005730 seconds.\n",
      "You can set `force_col_wise=true` to remove the overhead.\n",
      "[LightGBM] [Info] Total Bins 8924\n",
      "[LightGBM] [Info] Number of data points in the train set: 13536, number of used features: 55\n",
      "[LightGBM] [Info] Start training from score 0.005762\n"
     ]
    },
    {
     "name": "stderr",
     "output_type": "stream",
     "text": [
      " 87%|████████▋ | 26/30 [01:39<00:34,  8.67s/it]"
     ]
    },
    {
     "name": "stdout",
     "output_type": "stream",
     "text": [
      "[LightGBM] [Info] Auto-choosing col-wise multi-threading, the overhead of testing was 0.010072 seconds.\n",
      "You can set `force_col_wise=true` to remove the overhead.\n",
      "[LightGBM] [Info] Total Bins 8973\n",
      "[LightGBM] [Info] Number of data points in the train set: 14074, number of used features: 55\n",
      "[LightGBM] [Info] Start training from score 0.005726\n"
     ]
    },
    {
     "name": "stderr",
     "output_type": "stream",
     "text": [
      " 90%|█████████ | 27/30 [01:47<00:25,  8.55s/it]"
     ]
    },
    {
     "name": "stdout",
     "output_type": "stream",
     "text": [
      "[LightGBM] [Info] Auto-choosing row-wise multi-threading, the overhead of testing was 0.003801 seconds.\n",
      "You can set `force_row_wise=true` to remove the overhead.\n",
      "And if memory is not enough, you can set `force_col_wise=true`.\n",
      "[LightGBM] [Info] Total Bins 8995\n",
      "[LightGBM] [Info] Number of data points in the train set: 14582, number of used features: 55\n",
      "[LightGBM] [Info] Start training from score 0.005705\n"
     ]
    },
    {
     "name": "stderr",
     "output_type": "stream",
     "text": [
      " 93%|█████████▎| 28/30 [01:51<00:14,  7.15s/it]"
     ]
    },
    {
     "name": "stdout",
     "output_type": "stream",
     "text": [
      "[LightGBM] [Info] Auto-choosing col-wise multi-threading, the overhead of testing was 0.007865 seconds.\n",
      "You can set `force_col_wise=true` to remove the overhead.\n",
      "[LightGBM] [Info] Total Bins 9013\n",
      "[LightGBM] [Info] Number of data points in the train set: 15051, number of used features: 55\n",
      "[LightGBM] [Info] Start training from score 0.005700\n"
     ]
    },
    {
     "name": "stderr",
     "output_type": "stream",
     "text": [
      " 97%|█████████▋| 29/30 [01:55<00:06,  6.12s/it]"
     ]
    },
    {
     "name": "stdout",
     "output_type": "stream",
     "text": [
      "[LightGBM] [Info] Auto-choosing col-wise multi-threading, the overhead of testing was 0.009096 seconds.\n",
      "You can set `force_col_wise=true` to remove the overhead.\n",
      "[LightGBM] [Info] Total Bins 9027\n",
      "[LightGBM] [Info] Number of data points in the train set: 15545, number of used features: 55\n",
      "[LightGBM] [Info] Start training from score 0.005686\n"
     ]
    },
    {
     "name": "stderr",
     "output_type": "stream",
     "text": [
      "100%|██████████| 30/30 [01:59<00:00,  3.98s/it]\n"
     ]
    }
   ],
   "source": [
    "\n",
    "#backtest\n",
    "mean_ap, aps, all_predictions = backtest(stats, voting_model, years[5:], predictors)"
   ]
  },
  {
   "cell_type": "code",
   "execution_count": 52,
   "id": "d112803d",
   "metadata": {},
   "outputs": [
    {
     "data": {
      "text/plain": [
       "0.8127250827141989"
      ]
     },
     "execution_count": 52,
     "metadata": {},
     "output_type": "execute_result"
    }
   ],
   "source": [
    "mean_ap"
   ]
  },
  {
   "cell_type": "code",
   "execution_count": 212,
   "id": "6bcd2a39",
   "metadata": {},
   "outputs": [
    {
     "name": "stdout",
     "output_type": "stream",
     "text": [
      "    Year        AP\n",
      "0   1996  0.701429\n",
      "1   1997  0.712195\n",
      "2   1998  0.810000\n",
      "3   1999  0.386465\n",
      "4   2000  0.844444\n",
      "5   2001  0.826190\n",
      "6   2002  0.790303\n",
      "7   2003  1.000000\n",
      "8   2004  0.607075\n",
      "9   2005  0.420833\n",
      "10  2006  0.615775\n",
      "11  2007  0.780952\n",
      "12  2008  0.925000\n",
      "13  2009  0.966667\n",
      "14  2010  0.925000\n",
      "15  2011  0.794444\n",
      "16  2012  0.516667\n",
      "17  2013  0.804762\n",
      "18  2014  0.683333\n",
      "19  2015  0.926667\n",
      "20  2016  0.942857\n",
      "21  2017  0.850909\n",
      "22  2018  0.926667\n",
      "23  2019  0.780952\n",
      "24  2020  0.925000\n",
      "25  2021  0.616206\n",
      "26  2022  0.862500\n",
      "27  2023  0.826190\n",
      "28  2024  0.942857\n",
      "29  2025  0.843478\n"
     ]
    }
   ],
   "source": [
    "# See if you're getting better or worse over time\n",
    "yearly_performance = pd.DataFrame({'Year': years[5:], 'AP': aps})\n",
    "print(yearly_performance.sort_values('Year').tail(120))"
   ]
  },
  {
   "cell_type": "code",
   "execution_count": 50,
   "id": "09018086",
   "metadata": {},
   "outputs": [
    {
     "name": "stdout",
     "output_type": "stream",
     "text": [
      "AP for years >= 2019: 0.8965\n",
      "Number of years: 7\n"
     ]
    }
   ],
   "source": [
    "# Assuming you have existing results\n",
    "yearly_performance = pd.DataFrame({'Year': years[5:], 'AP': aps})\n",
    "\n",
    "# Filter to recent years\n",
    "recent_performance = yearly_performance[yearly_performance['Year'] >= 2019]\n",
    "recent_ap = recent_performance['AP'].mean()\n",
    "\n",
    "print(f\"AP for years >= 2019: {recent_ap:.4f}\")\n",
    "print(f\"Number of years: {len(recent_performance)}\")"
   ]
  },
  {
   "cell_type": "code",
   "execution_count": 166,
   "id": "669a703f",
   "metadata": {},
   "outputs": [
    {
     "data": {
      "text/html": [
       "<div>\n",
       "<style scoped>\n",
       "    .dataframe tbody tr th:only-of-type {\n",
       "        vertical-align: middle;\n",
       "    }\n",
       "\n",
       "    .dataframe tbody tr th {\n",
       "        vertical-align: top;\n",
       "    }\n",
       "\n",
       "    .dataframe thead th {\n",
       "        text-align: right;\n",
       "    }\n",
       "</style>\n",
       "<table border=\"1\" class=\"dataframe\">\n",
       "  <thead>\n",
       "    <tr style=\"text-align: right;\">\n",
       "      <th></th>\n",
       "      <th>Player</th>\n",
       "      <th>Share</th>\n",
       "      <th>predictions</th>\n",
       "    </tr>\n",
       "  </thead>\n",
       "  <tbody>\n",
       "    <tr>\n",
       "      <th>11645</th>\n",
       "      <td>Nikola Jokić</td>\n",
       "      <td>0.935</td>\n",
       "      <td>0.255345</td>\n",
       "    </tr>\n",
       "    <tr>\n",
       "      <th>13672</th>\n",
       "      <td>Shai Gilgeous-Alexander</td>\n",
       "      <td>0.646</td>\n",
       "      <td>0.154796</td>\n",
       "    </tr>\n",
       "    <tr>\n",
       "      <th>9945</th>\n",
       "      <td>Luka Dončić</td>\n",
       "      <td>0.572</td>\n",
       "      <td>0.209183</td>\n",
       "    </tr>\n",
       "    <tr>\n",
       "      <th>5666</th>\n",
       "      <td>Giannis Antetokounmpo</td>\n",
       "      <td>0.194</td>\n",
       "      <td>0.230050</td>\n",
       "    </tr>\n",
       "    <tr>\n",
       "      <th>6626</th>\n",
       "      <td>Jalen Brunson</td>\n",
       "      <td>0.143</td>\n",
       "      <td>0.117840</td>\n",
       "    </tr>\n",
       "    <tr>\n",
       "      <th>7285</th>\n",
       "      <td>Jayson Tatum</td>\n",
       "      <td>0.087</td>\n",
       "      <td>0.103313</td>\n",
       "    </tr>\n",
       "    <tr>\n",
       "      <th>823</th>\n",
       "      <td>Anthony Edwards</td>\n",
       "      <td>0.018</td>\n",
       "      <td>0.072423</td>\n",
       "    </tr>\n",
       "    <tr>\n",
       "      <th>4394</th>\n",
       "      <td>Domantas Sabonis</td>\n",
       "      <td>0.003</td>\n",
       "      <td>0.142944</td>\n",
       "    </tr>\n",
       "    <tr>\n",
       "      <th>8939</th>\n",
       "      <td>Kevin Durant</td>\n",
       "      <td>0.001</td>\n",
       "      <td>0.090558</td>\n",
       "    </tr>\n",
       "    <tr>\n",
       "      <th>144</th>\n",
       "      <td>Admiral Schofield</td>\n",
       "      <td>0.000</td>\n",
       "      <td>0.004341</td>\n",
       "    </tr>\n",
       "  </tbody>\n",
       "</table>\n",
       "</div>"
      ],
      "text/plain": [
       "                        Player  Share  predictions\n",
       "11645             Nikola Jokić  0.935     0.255345\n",
       "13672  Shai Gilgeous-Alexander  0.646     0.154796\n",
       "9945               Luka Dončić  0.572     0.209183\n",
       "5666     Giannis Antetokounmpo  0.194     0.230050\n",
       "6626             Jalen Brunson  0.143     0.117840\n",
       "7285              Jayson Tatum  0.087     0.103313\n",
       "823            Anthony Edwards  0.018     0.072423\n",
       "4394          Domantas Sabonis  0.003     0.142944\n",
       "8939              Kevin Durant  0.001     0.090558\n",
       "144          Admiral Schofield  0.000     0.004341"
      ]
     },
     "execution_count": 166,
     "metadata": {},
     "output_type": "execute_result"
    }
   ],
   "source": [
    "combination.sort_values(\"Share\", ascending=False).head(10)"
   ]
  }
 ],
 "metadata": {
  "kernelspec": {
   "display_name": ".venv",
   "language": "python",
   "name": "python3"
  },
  "language_info": {
   "codemirror_mode": {
    "name": "ipython",
    "version": 3
   },
   "file_extension": ".py",
   "mimetype": "text/x-python",
   "name": "python",
   "nbconvert_exporter": "python",
   "pygments_lexer": "ipython3",
   "version": "3.13.1"
  }
 },
 "nbformat": 4,
 "nbformat_minor": 5
}
